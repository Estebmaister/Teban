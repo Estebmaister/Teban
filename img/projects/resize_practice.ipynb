{
 "cells": [
  {
   "cell_type": "code",
   "execution_count": 6,
   "metadata": {},
   "outputs": [
    {
     "name": "stdout",
     "output_type": "stream",
     "text": [
      "Directory  300  already exists\n",
      "Directory  700  already exists\n"
     ]
    }
   ],
   "source": [
    "import glob\n",
    "import os\n",
    "import PIL\n",
    "from PIL import Image, ImageDraw #, ImageFont\n",
    "from ipywidgets import interact\n",
    "\n",
    "# Creates target directory & all intermediate directories if don't exists\n",
    "def makeDir(dirName):\n",
    "    if not os.path.exists(dirName):\n",
    "        os.makedirs(dirName)\n",
    "        print(\"Directory \", dirName,  \" Created \")\n",
    "    else:\n",
    "        print(\"Directory \", dirName,  \" already exists\")\n",
    "\n",
    "# Returns a cropped image from the original and a box\n",
    "bounding_box = (10,118,1163,750)\n",
    "cut = False\n",
    "dir = '../../../blog/assets/project/'\n",
    "def cutImg(PIL_image,bounding_box):\n",
    "    return PIL_image.crop(bounding_box)\n",
    "        \n",
    "size_300 = (300, 300)\n",
    "size_700 = (700, 700)\n",
    "ext = '.png'\n",
    "makeDir('300')\n",
    "makeDir('700')\n",
    "\n",
    "for file_name in os.listdir(dir):  # For every file in the actual directory\n",
    "    # If the file has the ext assigned image\n",
    "    if file_name.endswith('{}'.format(ext)) and file_name.__contains__('project'):  \n",
    "        i = Image.open(dir + file_name)  # Open the file as a PIL image object\n",
    "        if cut: # Cut the image if cut == True\n",
    "            i = cutImg(i,bounding_box)\n",
    "        \n",
    "        fn, f_ext = os.path.splitext(file_name)\n",
    "        # Make a thumbnail of 700px (modified the i object)\n",
    "        i.thumbnail(size_700)\n",
    "        i.save(dir + '700/{}_700{}'.format(fn, f_ext))  # Save in the folder 700\n",
    "\n",
    "        # Make a thumbnail of 300px (modified the i object)\n",
    "        i.thumbnail(size_300)\n",
    "        i.save(dir + '300/{}_300{}'.format(fn, f_ext))  # Save in the folder 300"
   ]
  },
  {
   "cell_type": "code",
   "execution_count": null,
   "metadata": {
    "scrolled": true
   },
   "outputs": [],
   "source": []
  },
  {
   "cell_type": "code",
   "execution_count": 21,
   "metadata": {},
   "outputs": [
    {
     "data": {
      "application/vnd.jupyter.widget-view+json": {
       "model_id": "cf1e92e90e5948d980814bbce8248bcb",
       "version_major": 2,
       "version_minor": 0
      },
      "text/plain": [
       "interactive(children=(IntSlider(value=10, description='left', max=30, min=-10), IntSlider(value=118, descripti…"
      ]
     },
     "metadata": {},
     "output_type": "display_data"
    }
   ],
   "source": [
    "from PIL import Image, ImageDraw #, ImageFont\n",
    "from ipywidgets import interact\n",
    "\n",
    "image = Image.open('project1.png')\n",
    "\n",
    "bounding_box = (10,118,1163,750)        \n",
    "def cutImg(PIL_image,bounding_box):\n",
    "    return PIL_image.crop(bounding_box)\n",
    "\n",
    "@interact(left=10,top=118,right=1163,bottom=750)\n",
    "\n",
    "def drawBorder(left=10,top=118,right=1163,bottom=750):\n",
    "    img = image.copy()\n",
    "    drawing_obj = ImageDraw.Draw(img)\n",
    "    drawing_obj.rectangle((left,top,right,bottom), fill = None, outline = 'red')\n",
    "    display(img)"
   ]
  },
  {
   "cell_type": "code",
   "execution_count": null,
   "metadata": {},
   "outputs": [],
   "source": []
  }
 ],
 "metadata": {
  "kernelspec": {
   "display_name": "Python 3",
   "language": "python",
   "name": "python3"
  },
  "language_info": {
   "codemirror_mode": {
    "name": "ipython",
    "version": 3
   },
   "file_extension": ".py",
   "mimetype": "text/x-python",
   "name": "python",
   "nbconvert_exporter": "python",
   "pygments_lexer": "ipython3",
   "version": "3.10.6"
  },
  "vscode": {
   "interpreter": {
    "hash": "916dbcbb3f70747c44a77c7bcd40155683ae19c65e1c03b4aa3499c5328201f1"
   }
  }
 },
 "nbformat": 4,
 "nbformat_minor": 2
}
